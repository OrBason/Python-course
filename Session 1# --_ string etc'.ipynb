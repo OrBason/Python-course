{
 "cells": [
  {
   "cell_type": "code",
   "execution_count": 4,
   "id": "f9cb2751",
   "metadata": {},
   "outputs": [
    {
     "data": {
      "text/plain": [
       "False"
      ]
     },
     "execution_count": 4,
     "metadata": {},
     "output_type": "execute_result"
    }
   ],
   "source": [
    "True or False\n"
   ]
  },
  {
   "cell_type": "code",
   "execution_count": 2,
   "id": "9f37a0b6",
   "metadata": {},
   "outputs": [
    {
     "name": "stdout",
     "output_type": "stream",
     "text": [
      "True\n"
     ]
    }
   ],
   "source": [
    "c1 = True\n",
    "c2 = False\n",
    "c3 = False\n",
    "\n",
    "print( (c1 and c2) or not (c1 and c3) )\n"
   ]
  },
  {
   "cell_type": "code",
   "execution_count": 11,
   "id": "368cf4c2",
   "metadata": {},
   "outputs": [
    {
     "name": "stdout",
     "output_type": "stream",
     "text": [
      "True\n"
     ]
    }
   ],
   "source": [
    "is_VIP = False\n",
    "cash = 500\n",
    "\n",
    "if cash>=500:\n",
    "    is_VIP=True\n",
    "    \n",
    "print(is_VIP) \n",
    "\n",
    "\n"
   ]
  },
  {
   "cell_type": "code",
   "execution_count": 20,
   "id": "d7c7719e",
   "metadata": {},
   "outputs": [
    {
     "name": "stdout",
     "output_type": "stream",
     "text": [
      "Lennon\n"
     ]
    }
   ],
   "source": [
    "name = \"John\"\n",
    "\n",
    "singer = \"Lennon\"\n",
    "president = \"Kennedy\"\n",
    "actor = \"Travolta\"\n",
    "\n",
    "profession = \"singer\"\n",
    "\n",
    "\n",
    "if profession==\"singer\":\n",
    "    print(singer)\n",
    "elif profession==\"president\":\n",
    "    print(president)\n",
    "elif profession==\"actor\":\n",
    "    print(actor)\n"
   ]
  },
  {
   "cell_type": "code",
   "execution_count": 23,
   "id": "1cff2af7",
   "metadata": {},
   "outputs": [],
   "source": [
    "fruits=['Banana','Orange','Peach']"
   ]
  },
  {
   "cell_type": "code",
   "execution_count": 24,
   "id": "5f3b3fbd",
   "metadata": {},
   "outputs": [
    {
     "data": {
      "text/plain": [
       "list"
      ]
     },
     "execution_count": 24,
     "metadata": {},
     "output_type": "execute_result"
    }
   ],
   "source": [
    "type(fruits)"
   ]
  },
  {
   "cell_type": "code",
   "execution_count": 25,
   "id": "dcfe4b80",
   "metadata": {},
   "outputs": [
    {
     "data": {
      "text/plain": [
       "['Banana', 'Orange', 'Peach']"
      ]
     },
     "execution_count": 25,
     "metadata": {},
     "output_type": "execute_result"
    }
   ],
   "source": [
    "fruits"
   ]
  },
  {
   "cell_type": "code",
   "execution_count": 26,
   "id": "1bf9a51a",
   "metadata": {},
   "outputs": [],
   "source": [
    "fruits.insert(0,'Watermelon')"
   ]
  },
  {
   "cell_type": "code",
   "execution_count": 27,
   "id": "a8f49e2d",
   "metadata": {},
   "outputs": [
    {
     "data": {
      "text/plain": [
       "['Watermelon', 'Banana', 'Orange', 'Peach']"
      ]
     },
     "execution_count": 27,
     "metadata": {},
     "output_type": "execute_result"
    }
   ],
   "source": [
    "fruits"
   ]
  },
  {
   "cell_type": "code",
   "execution_count": 29,
   "id": "4d29f9c8",
   "metadata": {},
   "outputs": [],
   "source": [
    "fruits.remove('Watermelon')"
   ]
  },
  {
   "cell_type": "code",
   "execution_count": 30,
   "id": "bc9462c5",
   "metadata": {},
   "outputs": [
    {
     "data": {
      "text/plain": [
       "['Banana', 'Orange', 'Peach']"
      ]
     },
     "execution_count": 30,
     "metadata": {},
     "output_type": "execute_result"
    }
   ],
   "source": [
    "fruits"
   ]
  },
  {
   "cell_type": "code",
   "execution_count": 32,
   "id": "2ae43ed1",
   "metadata": {},
   "outputs": [],
   "source": [
    "fruits.insert(0,'Watermelon')"
   ]
  },
  {
   "cell_type": "code",
   "execution_count": 33,
   "id": "6b7ed57f",
   "metadata": {},
   "outputs": [
    {
     "data": {
      "text/plain": [
       "['Watermelon', 'Banana', 'Orange', 'Peach']"
      ]
     },
     "execution_count": 33,
     "metadata": {},
     "output_type": "execute_result"
    }
   ],
   "source": [
    "fruits"
   ]
  },
  {
   "cell_type": "code",
   "execution_count": 44,
   "id": "34d71bab",
   "metadata": {},
   "outputs": [
    {
     "data": {
      "text/plain": [
       "['Orange', 'Peach']"
      ]
     },
     "execution_count": 44,
     "metadata": {},
     "output_type": "execute_result"
    }
   ],
   "source": [
    "fruits[2:]"
   ]
  },
  {
   "cell_type": "code",
   "execution_count": 46,
   "id": "34d818af",
   "metadata": {},
   "outputs": [],
   "source": [
    "fruits.remove(fruits[2])"
   ]
  },
  {
   "cell_type": "code",
   "execution_count": 62,
   "id": "b933c8f1",
   "metadata": {},
   "outputs": [],
   "source": [
    "\n"
   ]
  },
  {
   "cell_type": "code",
   "execution_count": 48,
   "id": "0a240940",
   "metadata": {},
   "outputs": [],
   "source": [
    "playlist=list()"
   ]
  },
  {
   "cell_type": "code",
   "execution_count": 50,
   "id": "130b141e",
   "metadata": {},
   "outputs": [
    {
     "data": {
      "text/plain": [
       "list"
      ]
     },
     "execution_count": 50,
     "metadata": {},
     "output_type": "execute_result"
    }
   ],
   "source": [
    "type(playlist)"
   ]
  },
  {
   "cell_type": "code",
   "execution_count": 67,
   "id": "99b50787",
   "metadata": {},
   "outputs": [
    {
     "name": "stdout",
     "output_type": "stream",
     "text": [
      "['My Heart', 'One Dance - Together']\n"
     ]
    }
   ],
   "source": [
    "songs = [\"My Heart\", \"Her Brain\", \"The Light\", \n",
    "\"A Shadow\", \"One Dance\", \"Two Monkeys\", \"Happy Jumping\"]\n",
    "\n",
    "playlist=list()\n",
    "\n",
    "playlist.append(songs[0])\n",
    "playlist.append(songs[2])\n",
    "playlist.append(songs[4])\n",
    "\n",
    "playlist[2] += \" - Together\"\n",
    "playlist.pop(1)\n",
    "print(playlist)\n",
    "        \n"
   ]
  },
  {
   "cell_type": "code",
   "execution_count": 68,
   "id": "bd24fc4d",
   "metadata": {},
   "outputs": [],
   "source": [
    "user_id='123-abc-f5T4'"
   ]
  },
  {
   "cell_type": "code",
   "execution_count": null,
   "id": "f81c51b0",
   "metadata": {},
   "outputs": [],
   "source": [
    "user_id."
   ]
  },
  {
   "cell_type": "code",
   "execution_count": null,
   "id": "5fbc16b8",
   "metadata": {},
   "outputs": [],
   "source": []
  }
 ],
 "metadata": {
  "kernelspec": {
   "display_name": "Python 3 (ipykernel)",
   "language": "python",
   "name": "python3"
  },
  "language_info": {
   "codemirror_mode": {
    "name": "ipython",
    "version": 3
   },
   "file_extension": ".py",
   "mimetype": "text/x-python",
   "name": "python",
   "nbconvert_exporter": "python",
   "pygments_lexer": "ipython3",
   "version": "3.10.5"
  }
 },
 "nbformat": 4,
 "nbformat_minor": 5
}
