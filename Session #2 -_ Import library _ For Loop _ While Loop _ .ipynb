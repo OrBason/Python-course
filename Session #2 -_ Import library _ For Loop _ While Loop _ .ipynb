{
 "cells": [
  {
   "cell_type": "code",
   "execution_count": 34,
   "id": "94403130",
   "metadata": {},
   "outputs": [
    {
     "name": "stdout",
     "output_type": "stream",
     "text": [
      "yes!!\n"
     ]
    },
    {
     "data": {
      "text/plain": [
       "True"
      ]
     },
     "execution_count": 34,
     "metadata": {},
     "output_type": "execute_result"
    }
   ],
   "source": [
    "user_id='Aa-bb-123-dd'\n",
    "user_id.startswith('a')\n",
    "\n",
    "if user_id.lower().startswith('a') or user_id.lower().startswith('b'):\n",
    "     print('yes!!')\n",
    "        \n",
    "        \n",
    "user_id.lower()[4] in ['a','b','e']\n",
    "\n"
   ]
  },
  {
   "cell_type": "code",
   "execution_count": 51,
   "id": "ff4a7fe3",
   "metadata": {
    "collapsed": true
   },
   "outputs": [
    {
     "name": "stdout",
     "output_type": "stream",
     "text": [
      "Requirement already satisfied: faker in /Library/Frameworks/Python.framework/Versions/3.10/lib/python3.10/site-packages (13.15.1)\r\n",
      "Requirement already satisfied: python-dateutil>=2.4 in /Library/Frameworks/Python.framework/Versions/3.10/lib/python3.10/site-packages (from faker) (2.8.2)\r\n",
      "Requirement already satisfied: six>=1.5 in /Library/Frameworks/Python.framework/Versions/3.10/lib/python3.10/site-packages (from python-dateutil>=2.4->faker) (1.16.0)\r\n"
     ]
    }
   ],
   "source": [
    "!pip3 install faker"
   ]
  },
  {
   "cell_type": "code",
   "execution_count": 58,
   "id": "14f44857",
   "metadata": {},
   "outputs": [],
   "source": [
    "from faker import Faker"
   ]
  },
  {
   "cell_type": "code",
   "execution_count": 60,
   "id": "1f6a973c",
   "metadata": {},
   "outputs": [],
   "source": [
    "f = Faker()"
   ]
  },
  {
   "cell_type": "code",
   "execution_count": 65,
   "id": "6b1c61f6",
   "metadata": {},
   "outputs": [
    {
     "ename": "NameError",
     "evalue": "name 'F' is not defined",
     "output_type": "error",
     "traceback": [
      "\u001b[0;31m---------------------------------------------------------------------------\u001b[0m",
      "\u001b[0;31mNameError\u001b[0m                                 Traceback (most recent call last)",
      "Input \u001b[0;32mIn [65]\u001b[0m, in \u001b[0;36m<cell line: 2>\u001b[0;34m()\u001b[0m\n\u001b[1;32m      1\u001b[0m \u001b[38;5;66;03m#ids=list()\u001b[39;00m\n\u001b[0;32m----> 2\u001b[0m ids\u001b[38;5;241m.\u001b[39mappend(\u001b[43mF\u001b[49m\u001b[38;5;241m.\u001b[39mipv6())\n",
      "\u001b[0;31mNameError\u001b[0m: name 'F' is not defined"
     ]
    }
   ],
   "source": [
    "#ids=list()\n",
    "ids.append(F.ipv6())"
   ]
  },
  {
   "cell_type": "code",
   "execution_count": 66,
   "id": "adcf35ae",
   "metadata": {},
   "outputs": [],
   "source": [
    "id=f.ipv6()"
   ]
  },
  {
   "cell_type": "code",
   "execution_count": 69,
   "id": "a15f6b12",
   "metadata": {},
   "outputs": [
    {
     "data": {
      "text/plain": [
       "['6073', '63df', '14e4', '8215', 'd3db', '7e0a', '6155', '313']"
      ]
     },
     "execution_count": 69,
     "metadata": {},
     "output_type": "execute_result"
    }
   ],
   "source": [
    "id.split(':')"
   ]
  },
  {
   "cell_type": "code",
   "execution_count": 72,
   "id": "6692d5ef",
   "metadata": {},
   "outputs": [
    {
     "data": {
      "text/plain": [
       "True"
      ]
     },
     "execution_count": 72,
     "metadata": {},
     "output_type": "execute_result"
    }
   ],
   "source": [
    "'123.4'[0].isnumeric()"
   ]
  },
  {
   "cell_type": "code",
   "execution_count": 74,
   "id": "25272189",
   "metadata": {},
   "outputs": [
    {
     "data": {
      "text/plain": [
       "True"
      ]
     },
     "execution_count": 74,
     "metadata": {},
     "output_type": "execute_result"
    }
   ],
   "source": [
    "id.split(':')[0][0].isnumeric()"
   ]
  },
  {
   "cell_type": "markdown",
   "id": "ee65f1da",
   "metadata": {},
   "source": [
    "# FOR LOOP "
   ]
  },
  {
   "cell_type": "code",
   "execution_count": 76,
   "id": "6b3f13c6",
   "metadata": {
    "collapsed": true
   },
   "outputs": [
    {
     "name": "stdout",
     "output_type": "stream",
     "text": [
      "6073\n",
      "63df\n",
      "14e4\n",
      "8215\n",
      "d3db\n",
      "7e0a\n",
      "6155\n",
      "313\n"
     ]
    }
   ],
   "source": [
    "for part in id.split(':'):\n",
    "    print(part)"
   ]
  },
  {
   "cell_type": "code",
   "execution_count": 83,
   "id": "2d3e0a41",
   "metadata": {},
   "outputs": [
    {
     "data": {
      "text/plain": [
       "'6073:63df:14e4:8215:d3db:7e0a:6155:313'"
      ]
     },
     "execution_count": 83,
     "metadata": {},
     "output_type": "execute_result"
    }
   ],
   "source": [
    "id"
   ]
  },
  {
   "cell_type": "code",
   "execution_count": 85,
   "id": "bd249009",
   "metadata": {
    "collapsed": true
   },
   "outputs": [
    {
     "name": "stdout",
     "output_type": "stream",
     "text": [
      "6073\n",
      "63df\n",
      "14e4\n",
      "8215\n",
      "7e0a\n",
      "6155\n",
      "313\n"
     ]
    }
   ],
   "source": [
    "for part in id.split(':'):\n",
    "    if part[0].isnumeric():\n",
    "            print(part)\n",
    "        \n"
   ]
  },
  {
   "cell_type": "markdown",
   "id": "3cd4088f",
   "metadata": {},
   "source": [
    "#Range -   טווח "
   ]
  },
  {
   "cell_type": "code",
   "execution_count": 90,
   "id": "2147c887",
   "metadata": {
    "collapsed": true
   },
   "outputs": [
    {
     "name": "stdout",
     "output_type": "stream",
     "text": [
      "0\n",
      "1\n",
      "2\n",
      "3\n",
      "4\n",
      "5\n",
      "6\n",
      "7\n",
      "8\n",
      "9\n"
     ]
    }
   ],
   "source": [
    "for part in range(10):    #range(1 , 51, 7)\n",
    "            print(part)"
   ]
  },
  {
   "cell_type": "markdown",
   "id": "c1bdc432",
   "metadata": {},
   "source": [
    "#Example"
   ]
  },
  {
   "cell_type": "code",
   "execution_count": 91,
   "id": "e5bab561",
   "metadata": {},
   "outputs": [
    {
     "data": {
      "text/plain": [
       "'d63a:77bf:1952:5c89:bc3e:17e2:2b1f:34ff'"
      ]
     },
     "execution_count": 91,
     "metadata": {},
     "output_type": "execute_result"
    }
   ],
   "source": [
    "f.ipv6()"
   ]
  },
  {
   "cell_type": "code",
   "execution_count": 107,
   "id": "0b55bc3f",
   "metadata": {},
   "outputs": [],
   "source": [
    "ids = list()\n",
    "\n",
    "for i in range(200):\n",
    "    ids.append(f.ipv6())"
   ]
  },
  {
   "cell_type": "code",
   "execution_count": 108,
   "id": "f699555d",
   "metadata": {
    "collapsed": true
   },
   "outputs": [
    {
     "data": {
      "text/plain": [
       "['e:a0cc:3c1b:9ab2:e330:e8dd:a9e2:fa70',\n",
       " 'd830:132d:f3ff:9dee:7f04:1ace:1b8:fba7',\n",
       " '3f95:fd3d:5251:31b3:a6fc:2bc:121e:e3ba',\n",
       " '1ec0:882f:328b:3fb5:dd29:c16:401:7780',\n",
       " '4e1c:606b:c15f:4188:737:6e72:b60f:bcb3',\n",
       " '1148:6f3d:f928:db89:8719:9dc6:96eb:614',\n",
       " '3dad:3133:fbbf:744a:8bbc:8cf3:c630:f7c8',\n",
       " '671d:7cfb:47aa:4970:901d:7ff6:1664:b660',\n",
       " '93b2:bfb3:f403:1752:d1ac:5402:e25c:9b7e',\n",
       " 'eef5:1ad5:fc36:ede4:626a:d721:3103:c457',\n",
       " '1955:98f1:3e0e:ba37:2e48:4262:b4a:2cd1',\n",
       " '9870:2c59:d430:20bd:fdfd:a4cb:906b:9210',\n",
       " 'd2c4:cac8:8841:a191:4751:e39b:98f0:e53e',\n",
       " '3152:35bc:bcf7:8695:b302:44f1:33c0:faa3',\n",
       " '1e9f:bf64:9080:314a:cfc1:5d4d:f2:429',\n",
       " '8b82:cf58:26d:636:e86b:ea:bcc2:2475',\n",
       " '68e1:b442:efa9:b481:491a:4950:7a78:53c',\n",
       " '2315:f301:15f9:e33f:59f1:c4d0:5ce4:6a2d',\n",
       " '8888:f22e:21ee:88:3e57:c6d8:b7e2:9ede',\n",
       " 'ac99:fb7a:51f9:426b:76:2127:9cd7:bf75',\n",
       " '5015:c3d9:4132:ef23:304f:d2af:8d4c:7f7c',\n",
       " '7a1f:d605:ca56:729e:86e6:9aa:5622:8d83',\n",
       " '1c60:ba05:2aa5:b376:ebd3:574b:49dc:e307',\n",
       " 'd749:4239:aca:1610:c5cb:c9fe:29ce:6afe',\n",
       " '53eb:378:8c51:5127:4a02:6552:3081:bcb0',\n",
       " 'd6b1:7b6f:3f54:9138:a132:5a6e:9d11:21',\n",
       " '29d4:f3b1:6ca5:c8cb:795c:d764:150b:8ab0',\n",
       " '840:5056:20d5:a2c1:1d6e:49f4:626b:a330',\n",
       " '1c96:ea65:32c1:3171:93:aabf:4fda:48ca',\n",
       " '42c4:668:ed22:f95d:c3dd:6243:65f2:e407',\n",
       " 'ccdd:e4de:a8fe:68d9:b6ad:efa7:164a:6c3c',\n",
       " '18ee:d3c6:1208:df98:a62:8662:3904:76bd',\n",
       " 'e196:1a0e:d0bb:aa44:f9c8:e183:963f:1158',\n",
       " '9f89:f51e:bb6a:afe0:6b72:68df:5ae3:8e59',\n",
       " '6122:f4df:c293:ce88:d37e:54d1:4104:ddb0',\n",
       " 'ba6a:2e16:36e0:c6c7:2cf:bd75:a3e9:ff92',\n",
       " '199b:f1e2:dce6:d13b:53d4:dec4:83f4:9169',\n",
       " 'e118:a2db:b285:3a00:dbce:1117:614b:3acb',\n",
       " 'c9c:3cd4:f096:28e3:e1c2:a687:7a00:eec',\n",
       " '4e1f:699f:ff1b:5ece:7be:4c23:c5cc:271a',\n",
       " 'ff81:ffce:e518:c2a2:17ae:8296:d1fc:1b2b',\n",
       " '8356:cc4f:d164:dd7a:c148:a5e7:5499:e93',\n",
       " '43a4:861:8878:f57d:b3a3:88d:64b2:cb55',\n",
       " '8eb5:3dc3:a70f:1307:7c47:a918:c2c1:8733',\n",
       " 'a1e1:3ac7:6c85:1d1:4a04:3f00:16cc:eae3',\n",
       " 'a912:3c75:b317:5ee7:ae4b:645a:dadc:94dd',\n",
       " 'bcc7:9a78:cb4:450a:e7f6:46a3:a21:5e21',\n",
       " 'ed51:a9:e0c8:1d66:2eef:d2bc:9f48:aa52',\n",
       " 'b479:3394:925b:33fa:280a:e616:5c8f:e7e1',\n",
       " '15b4:97d5:32b5:9199:9cb7:ba57:8403:21ef',\n",
       " 'bb57:620b:fd3c:7c0c:c646:df3f:bcb6:937a',\n",
       " '2bd7:103f:f138:e343:18ab:795a:d6f7:8343',\n",
       " '1296:5977:cd52:eb3e:b89d:8829:c58c:6a85',\n",
       " '1012:1569:a450:a692:ffdc:3449:53c7:6591',\n",
       " '8d7e:2b23:7444:f8ca:a441:4eea:8caf:379',\n",
       " '2be:ea34:7681:ad3e:1bb6:c93a:5184:7769',\n",
       " '60c6:a456:e71f:fae7:9b8c:9637:e2d9:db9b',\n",
       " '497e:affa:b461:97f5:c19e:ff0b:699d:b5af',\n",
       " '6a72:d3b6:45b9:a74e:4fbe:df84:89ee:a2a4',\n",
       " '3c9:a971:3a9f:b623:9d81:9f5c:b2a9:9201',\n",
       " '4683:ffdd:b098:1460:892a:2fd4:1b2b:21e0',\n",
       " 'b197:8bdb:6aed:df67:41ed:ed3:39e8:3c7b',\n",
       " '270c:843a:8665:ef8e:18a0:bfae:9352:589f',\n",
       " '4fbb:a7c:c666:c1bc:4fc6:e050:dc7c:1918',\n",
       " '2f2b:bec6:6c02:34b3:c6e7:bb8a:6468:e2e2',\n",
       " 'a87b:a5e5:818a:11d2:c44d:cf0c:f812:1817',\n",
       " '1c8b:b5c8:16df:4604:900a:89f6:b9a9:13b7',\n",
       " 'a9ab:6bc2:2b88:8d5e:5384:d1e4:55ee:5448',\n",
       " 'b553:46d4:b298:ba6:fa0f:cabf:c5da:52fb',\n",
       " '906f:4543:1f79:d129:a8e9:55d:b08:5a11',\n",
       " 'f207:2a2c:94f0:fc2a:942e:3d6a:6919:20db',\n",
       " '1f7e:956:bec6:cbaa:42ed:9b53:1738:512b',\n",
       " '7136:8181:53ad:39a2:92a9:698b:f523:72e5',\n",
       " '2143:c31e:da8e:88b4:6bbd:9f80:c8c9:f7d4',\n",
       " '7559:e306:3181:1373:c170:a4d7:9f7a:b24a',\n",
       " '43c3:6bf5:550e:d25b:fc36:ec3e:a9c4:cac9',\n",
       " '90f:44f8:9c7c:788b:f25e:2659:9762:913',\n",
       " '86b6:6a7e:b90b:ce8c:84dc:fee9:7017:7dd1',\n",
       " '2e50:ed6c:da7:c411:6e4a:58e1:64b2:5626',\n",
       " 'c042:f362:ece9:ac78:20c6:a212:2f42:3a93',\n",
       " '7103:f7f9:e8a7:1681:6955:9ce5:45bf:6151',\n",
       " '7def:336d:f89:1fe4:927c:cb4c:acae:c150',\n",
       " '7581:9577:29f3:463e:a852:afde:d84a:ed11',\n",
       " 'e519:ce7d:4170:f371:def7:5d86:f2d6:6b79',\n",
       " 'a223:7b12:d59e:8f31:6266:9ce9:e8ef:21a3',\n",
       " 'afc9:2cd7:afca:b2cc:c2da:1290:c2:d025',\n",
       " '336d:a515:e051:d406:e364:8ed8:addc:fd23',\n",
       " '420:39d:2733:a631:e7ad:ef39:ab3:9261',\n",
       " '68:2fb1:904d:c913:1d55:ea0b:976c:89ac',\n",
       " '667a:d7d2:885b:fb7c:1a74:adf6:f4cd:ec5b',\n",
       " '1377:bba:4295:6eaa:cd97:5b7d:8596:e53a',\n",
       " '6d0d:bf33:763e:703f:b5fb:7783:6027:b5d8',\n",
       " 'ce9e:7a76:4cce:cc28:191c:7058:14bb:1aee',\n",
       " 'b6a6:8507:a679:4e01:160d:d625:cf84:a203',\n",
       " '8320:e9f3:b633:6cef:5e3f:3e57:f2e3:8f40',\n",
       " '924b:9a7:10d:179c:edde:c59d:e467:95c',\n",
       " '276f:d48e:f0e9:6686:8188:85d8:f13:359c',\n",
       " 'b9f5:b305:9aac:fe22:8743:a3f1:958:c252',\n",
       " 'b468:ff5e:d8d9:aa61:29e2:e5a:39ab:52f0',\n",
       " 'd2c2:60fd:bbd5:4faf:17a:da86:375b:706c',\n",
       " 'fda9:1ceb:102d:d8c:e58:1562:c9d:3f6a',\n",
       " '4f69:52df:470f:986d:74ab:1ac1:37b:b103',\n",
       " '39fa:ca6b:66c3:e1f8:c1f2:d2ea:4d60:4832',\n",
       " '2758:3641:d484:11f7:726b:f6b9:b06b:79f5',\n",
       " '4ad9:e4e:954d:3706:f0a2:7a3d:5a90:8cc5',\n",
       " '2de7:5dc2:1210:52f8:af91:ae1e:6142:2277',\n",
       " 'f6a1:7de0:e1f6:6e5:855c:f0d:c58d:b2c2',\n",
       " '72ae:169c:176c:d077:592a:ce47:4162:e502',\n",
       " '378e:2b65:83c1:7653:80ad:2f10:1535:c9f0',\n",
       " '783:c84d:ba19:e4c9:9ab4:d18b:dc7d:424f',\n",
       " 'd3dd:c08f:65bb:d176:ef52:128:2929:b8a7',\n",
       " '1707:e0eb:2d5:cade:abf5:7250:3753:8037',\n",
       " '5653:eb2d:e924:8990:955c:37f:9807:b7ae',\n",
       " 'e213:fb7c:fcca:b045:c99a:6065:3114:8633',\n",
       " 'e4d:e98f:d8e:849:8a3f:f692:b2ab:2ba5',\n",
       " 'c180:7ee4:de32:1f42:cb37:4cfa:5b11:5176',\n",
       " '85d1:4c47:56cf:392b:6a2b:4b23:5160:f5ee',\n",
       " '5455:1668:a18f:fd0c:bb40:fbee:630f:6adf',\n",
       " '4d75:db5d:118b:49a9:681d:d94f:b51e:92fa',\n",
       " 'b140:8bcd:a47d:29e:6206:c7d4:ee3e:951b',\n",
       " '4c7e:7ba9:9fca:f336:444f:b44:18d7:df30',\n",
       " 'b224:a82c:f8a:35e8:5a69:7502:fbf:ac90',\n",
       " '36e:3e91:378e:ce6f:ed32:265b:cf99:6095',\n",
       " 'f9fc:4866:fea8:6608:1006:9a1e:85de:f97e',\n",
       " '66ca:bcdd:c0e7:6709:93ba:b514:56a9:55fb',\n",
       " 'e1e4:80aa:4668:406a:a442:3ee2:5306:2f02',\n",
       " 'afdf:e04:d2f7:7fef:574f:b700:f41d:8ea',\n",
       " 'f75d:eba4:e868:53e0:eadd:7c0b:fa81:a131',\n",
       " 'b2cb:2958:5a80:3bd8:1fdf:1ff7:eae6:f636',\n",
       " '839c:a7a1:6950:a24f:a6b4:df53:5d3d:cdbd',\n",
       " '3569:b180:be9c:e42c:df81:770d:cf71:99c4',\n",
       " 'a6e8:37ae:d07d:8abd:c862:c74f:d785:4bf8',\n",
       " 'a392:eac8:5aa5:83ec:1f4f:ba9:d70b:43bb',\n",
       " '6523:c6a2:1a06:ce39:cba5:142f:9295:b5de',\n",
       " 'f908:928:cfe4:87d6:77b1:7e69:8a31:600b',\n",
       " '2450:6a43:1d2e:a5a2:f37a:8a3e:a28f:5b6c',\n",
       " 'cde4:d3f8:4b64:edeb:5b41:5e49:26e8:f18f',\n",
       " '709f:c333:e1cb:82f2:93ea:3951:30c:ced3',\n",
       " '88e1:dc4f:1cd:5918:4722:c087:c22a:fb0d',\n",
       " 'fdf5:d34:d6bf:944c:4063:f22:8595:6640',\n",
       " 'c26e:b15b:1583:ea95:1c7c:bd8d:47cc:c85f',\n",
       " 'df06:7fa8:a434:6d23:be45:e3af:c67a:f71b',\n",
       " '666f:9bee:bd6:236e:c090:c957:32c1:74bc',\n",
       " '2ee9:a0a6:5e5d:76fd:55e:21b4:2f1:5e13',\n",
       " '81d1:dbfd:a029:735a:8867:cd83:8c98:cd30',\n",
       " 'd2a1:788b:60ae:31ba:7bfb:1e9e:8a80:4d56',\n",
       " '445a:df48:e3b9:ca5a:2dc8:efb3:e7ba:bb90',\n",
       " 'ff7c:3578:4a87:38b0:d2e8:3d08:1445:84fd',\n",
       " 'e8ec:f88c:b53d:c6b2:2d7d:97d4:1708:5870',\n",
       " 'c05:195c:e617:adcb:bd5a:77a8:ceaa:e000',\n",
       " '4a78:1f5c:8bf0:9f24:ab9:e4f8:e344:7ff7',\n",
       " '5f6d:fbdc:d821:4a36:48c9:a015:69e0:e295',\n",
       " 'ca6:f615:5ece:7206:c4da:6277:2e35:c548',\n",
       " '3b7b:78ba:b9a3:f8ed:1733:35d7:55c4:91ac',\n",
       " 'c494:eb92:4754:d4b1:ec5b:5057:46:cf6c',\n",
       " '5a85:d656:73af:d472:62ec:eaec:ca59:50dc',\n",
       " 'd2cc:f013:8404:34eb:abd2:393e:e4de:8fe4',\n",
       " '8a4e:58d9:8536:ad55:506e:a955:91db:7107',\n",
       " '3fd7:1a96:6a30:43ac:d476:47e1:1dde:541f',\n",
       " 'cac0:e3c7:94dd:e32d:2fc4:dabc:931:8b6',\n",
       " 'b814:4c33:9ce0:8d10:3841:12a1:5c5f:27eb',\n",
       " '9a6b:6e9f:1ca9:82ec:4f89:2397:fa54:8640',\n",
       " 'd624:66dd:aa0:a76:15eb:2a5e:6778:ee69',\n",
       " '6edb:3211:3f3a:b018:84cd:1767:a134:d76f',\n",
       " '1a5b:be0:d788:7ba:1034:8542:65a4:e9d0',\n",
       " 'b89d:b9ff:4c63:2863:3542:2ac8:f9c9:ef42',\n",
       " '8663:9db9:b1ad:d6dd:6614:315a:76ee:92a5',\n",
       " 'a1c4:51da:f861:2b4b:b987:a0e2:31a3:b601',\n",
       " '818b:fe24:83d4:53ea:9c6a:b9b9:35b3:6830',\n",
       " 'a3f8:85c2:50df:5b33:a652:f3d1:6bdc:d18f',\n",
       " '6bce:bc57:709:dbd2:19ca:db31:c8ca:2f27',\n",
       " '7fc8:e858:e702:c900:3206:58f5:7be4:4b5e',\n",
       " '5305:8efd:219e:8d5e:c19c:a7dd:1f38:343e',\n",
       " '3e88:b8e4:b258:cd47:de1b:d87f:ae10:4afc',\n",
       " '65df:7aea:c120:5a33:3f9e:c232:8891:4338',\n",
       " '514c:6859:8404:142f:3f7a:cc60:94fa:9a2a',\n",
       " '7134:a98d:bd0:eece:300f:21f6:ebbe:7a3',\n",
       " 'f4f2:63b2:33b3:a09b:ba21:fa8a:19ba:c36',\n",
       " '7f50:a8e8:7eb4:758f:d108:5e2f:adf8:46f3',\n",
       " '3f1d:fecf:e52d:317d:f41b:dc5c:d70c:d552',\n",
       " 'c4a7:4ec3:74f1:8064:b2c4:e0cb:d1b3:c5d8',\n",
       " '625d:982d:ba77:e91a:5646:1498:a534:7ca9',\n",
       " '516d:41aa:b992:4e1c:e3ed:2d34:3edb:31dd',\n",
       " '79fb:e171:9b31:eed5:b815:5865:f2cd:4582',\n",
       " '446e:aa0:773b:3854:d222:93d3:3442:ba60',\n",
       " '506c:46f7:251a:c6c9:c023:8c74:919b:4d34',\n",
       " '10d4:af53:a17d:c9e4:60ce:b8dc:1154:e7a5',\n",
       " '8f77:d26f:3f14:51e8:bb79:1912:adab:e0f3',\n",
       " 'b7f8:8fb7:ee6c:d933:c5d:bf4a:b31f:1f20',\n",
       " 'a096:56af:5fc4:d4ea:ce63:7f8a:dab1:d61f',\n",
       " '4e6a:37e0:60fa:6116:9d6b:ccbe:2cdb:3c36',\n",
       " 'ca68:7c9f:6384:ecd:426c:6983:1215:e822',\n",
       " '657e:a12f:7e83:337c:8432:252e:9ee7:f9c1',\n",
       " '3705:d2e7:d5f0:48ba:4706:6de4:a990:fd07',\n",
       " '3edc:f744:7c28:566e:fce6:6b14:924b:9e8a',\n",
       " 'd96c:33d4:eef:9189:1d0:a99c:d1d9:47d7',\n",
       " '6238:d4f1:9544:fe8f:4338:b5e0:6551:1852',\n",
       " 'd118:72f6:a294:2ee1:a9c4:c9d:58cd:8b7a',\n",
       " 'c77e:79b:69ee:7e56:4a60:45c8:e515:7e48',\n",
       " '2da1:766f:52e1:d533:c8ea:bfc4:9fc5:d149']"
      ]
     },
     "execution_count": 108,
     "metadata": {},
     "output_type": "execute_result"
    }
   ],
   "source": [
    "ids"
   ]
  },
  {
   "cell_type": "code",
   "execution_count": 120,
   "id": "e6197f54",
   "metadata": {
    "collapsed": true
   },
   "outputs": [
    {
     "name": "stdout",
     "output_type": "stream",
     "text": [
      "1e8a:8995:7ed6:7666:7158:2050:6b:b3df\n",
      "155c:b9ee:29:6966:8955:9366:bab8:db28\n",
      "799e:2b23:3058:879d:d005:bf69:bbf5:f9aa\n",
      "11e6:dd0a:2a25:3ca5:9d14:16f7:cb98:b64d\n",
      "93bc:9041:6292:3401:653e:902d:ec45:9e10\n",
      "778f:e147:7362:f2df:e8cc:ef27:bced:df55\n",
      "9be8:ef88:fdd1:699f:e98:a888:26e1:e9b3\n",
      "74f3:d3b3:942:fce1:6801:3321:321:6900\n",
      "3c16:5ca2:8906:f287:be56:a46a:54d1:ef92\n",
      "14f1:a80e:18b8:ecc7:84d2:ffa0:5928:be46\n",
      "6e48:b10b:a713:df0a:51c8:df64:e0e2:c37e\n",
      "6586:161f:c704:ed75:e8bb:9326:3ef8:6dd1\n",
      "20cd:f9b2:a5a1:faeb:c952:e992:ff16:3f81\n",
      "5eb3:4da7:f614:6df3:6a38:fe4c:7933:4af9\n",
      "19d7:8532:4dd6:abad:1f99:f076:553f:b293\n",
      "31f8:dbe0:39ee:cfb:954e:4802:9df3:1888\n",
      "47d3:a41a:79a:da44:8961:c58e:db98:548\n",
      "8bdc:6fd8:c558:4d5e:def4:f41e:6973:c9a2\n",
      "2e14:30:1b98:956b:e2dd:7edf:e8e2:3396\n",
      "333d:36df:b16b:4b95:6d4:d54:d47:ac1\n",
      "1ce8:43ae:8d28:1cf:c290:c62f:2015:8235\n",
      "71bd:603a:e900:7dcc:43dd:6864:cbad:da91\n",
      "6df3:5661:c05b:d91b:c997:de12:d96:8aa4\n",
      "829f:4b0a:4575:38ab:47ef:c42:3db1:545e\n",
      "68f2:a172:cecc:a3c4:b1f2:1b44:e637:9338\n",
      "2a0:8258:cc03:2ff5:86ae:fc0e:a93b:a3f3\n",
      "3489:2ab1:bc0e:fd4f:63a4:5877:6045:140c\n",
      "5915:b9be:cf55:b8aa:43da:7e3b:8c46:175f\n",
      "66b5:1e9d:ac31:d17f:90d1:1978:fc64:b3c4\n",
      "2089:57d8:e9ff:c918:7ddf:d554:109c:5f0b\n",
      "39c9:15a8:5d12:b48e:ece6:6e48:38cb:b28b\n",
      "8d93:56db:369f:84b2:8720:b690:d0a5:1a15\n",
      "4ec3:25c5:299c:b5cc:caa7:c5ec:c24f:7e18\n",
      "86df:48bb:b4cf:9974:25c4:ac42:281a:cb37\n",
      "38f4:d8da:352:ee93:63d9:df68:afb0:98db\n",
      "619a:871e:680c:4f94:d7f8:2f39:60f4:81f8\n",
      "4188:d80e:b93c:dc81:7a17:22c3:e0d7:9d76\n",
      "35e7:fa70:bf3c:85a:b261:1917:8768:8a55\n",
      "93c1:7088:b409:f51f:603:765d:2d96:c815\n",
      "2c47:d58c:1286:42da:76a2:83f5:90b1:adb9\n",
      "5f71:10ef:ba64:ceca:edc0:29fe:bedd:bfa6\n",
      "819:f72f:4af:49bb:d9d0:9476:83b:b39c\n",
      "1d27:55ab:b16e:abe4:d76c:92a5:2927:c669\n",
      "9147:6e2c:3f4c:bfef:ca0f:fc6d:8981:c2dd\n",
      "21f8:2da4:f429:e79a:f9f8:fb2:405:bb90\n",
      "75c:5fa9:b352:14af:59ad:4ef8:720b:d88f\n",
      "1df3:c4a8:e9e3:706:b3d4:1fb2:241c:5bf2\n",
      "6674:da4d:9b79:8f29:7b65:dadb:4862:f0b7\n",
      "9cb7:9bd2:897:5713:9759:e611:5e33:383b\n",
      "302c:f04a:b601:7f27:e13a:f388:6ff1:c351\n",
      "7b5a:63dd:8b1d:4935:66d7:5c21:ebcf:6794\n",
      "1e97:98c8:5399:1e0f:16ff:68b6:7ce0:21\n",
      "66f2:1e62:ef65:d999:7100:b913:cebf:d373\n",
      "1ebe:94ab:ca33:6eeb:cff2:d321:4ed5:9f0d\n",
      "2df5:fa18:63b8:359f:6b4c:1195:3aa4:60a8\n",
      "329c:9237:1ae7:204:7203:f05e:8adf:d5a5\n",
      "2307:af03:24f2:d806:dcfc:2ef3:14d:39af\n",
      "4658:565e:eb5c:51d5:205a:47ef:3bbc:3db7\n",
      "51aa:740:2449:14b7:508c:58c7:5479:93e8\n",
      "6870:da0:3c46:dda7:117e:7fbe:e346:19e8\n",
      "19dd:5b2f:4e03:21f7:f18f:2e9a:ab03:8b1a\n",
      "5461:128:3a2c:bce5:6cec:2347:8fcb:749c\n",
      "9ef0:3be1:3467:13d2:10f7:b5d4:b2e6:ec15\n",
      "8042:7748:e095:4199:b800:68:a427:b067\n",
      "7dcf:cf78:c695:d4f1:a807:29d3:f329:95c0\n",
      "3c47:2c02:78a4:bd49:8a66:ec59:d12f:ff55\n",
      "8964:60e4:f0f0:5abb:6b64:57c7:b385:9a79\n",
      "97a6:874e:f792:9080:2a6e:ca57:28:ab43\n",
      "8423:2d51:44d7:c25a:8acd:9da7:26c9:aaa0\n",
      "2326:b4e8:dcad:d62:9788:79c5:e826:b421\n",
      "3cbe:99bc:7f04:6be3:4b09:c743:f948:7a09\n",
      "2c22:a2c2:287f:a77f:3901:de90:bc46:25fa\n",
      "8e02:eaf8:6d39:89d9:c98f:41a4:fa8:4c27\n",
      "334:9bbe:960f:31b0:6212:6296:a82c:6ef1\n",
      "226e:c47:87ec:a782:b553:8e68:40a:b91f\n",
      "8f3b:e00:1706:9e23:41ec:bcb3:ca05:2d92\n",
      "2ad7:b92d:6c19:2f15:1735:5617:f1ca:a39e\n",
      "724a:d21d:7559:5876:532d:6962:33a5:ee28\n",
      "79e4:9f89:a352:2af9:bc26:19f5:7ddf:41\n",
      "219d:ac1:32d3:58f1:8ea9:311b:ecc6:de8d\n",
      "56be:96c:a10a:24d9:b441:dd82:5637:1597\n",
      "76f4:1b17:b6f2:d083:ca30:5efb:b7a4:ad40\n",
      "6981:5a11:2fc2:697f:beb9:8362:159f:e4a3\n",
      "834:3557:7651:dda9:2b8a:d96c:832a:f977\n",
      "536e:e70:a46a:84f3:5229:b8f9:85e8:322d\n",
      "5b79:606:b709:a4d4:cdb3:1aaa:4955:2f44\n",
      "429:a809:48e4:1954:4f26:eb7c:17dd:b81d\n",
      "9f66:43ce:d86b:d16a:b6e6:c0fb:da71:7af7\n",
      "3436:f05f:6bb5:d7f4:6967:ab4b:84d1:d7fc\n",
      "8ad1:8957:c5f0:24a8:a5cc:7a8f:a143:2679\n",
      "13d1:bba6:4a6f:519e:9cb4:33f5:8912:70a5\n",
      "2ecc:d347:ea5a:1890:c3e0:d4f6:c161:ba4\n",
      "3a28:1e03:3bf6:c87f:a90:cda9:182:120d\n",
      "51db:93dd:6c91:912e:80ce:91cf:a2c4:3581\n",
      "535c:109f:f6e3:11b1:632b:cc59:869a:240b\n",
      "6096:1729:3052:f6ce:6f58:7606:b162:946f\n",
      "12ce:4013:ac98:61e2:d36a:7592:7dec:21a8\n",
      "69f9:b7e4:954e:8271:ec97:dae0:bb78:d29e\n",
      "4345:92a4:2c89:19ab:8f4a:db5f:f0f8:4a51\n",
      "7045:2c61:44bc:bcc7:2a69:83da:c4e3:f479\n",
      "3f30:28ca:fd3:cd02:513b:e603:3542:84cd\n",
      "6b9b:da2a:4588:2cf0:7e00:4716:92ef:a1e8\n",
      "9df4:8ea0:b54d:7aa3:e40a:121:5b24:a745\n",
      "425c:c022:de16:6b5d:ec78:bb9a:d995:3be2\n",
      "62a2:e5d3:f531:8176:593d:7806:af5d:2bcb\n",
      "6d71:803c:bf8d:b38f:52ed:92ca:fae6:6f55\n",
      "34c6:59:7914:387a:761b:19cc:4bfa:4708\n",
      "6ad7:cacb:3700:b8be:e95a:870b:901d:176d\n",
      "2dcb:ad83:144c:e99d:8cbf:592f:9a1b:bacc\n",
      "2f5:7689:e53c:2503:fea:5298:929a:984f\n",
      "1a80:8b3c:8e29:ee32:cbc2:7a6:299f:1e9e\n",
      "8143:36b2:a75c:8f6f:8648:2aa9:861e:d6a3\n",
      "3906:6a1d:bdf7:b5cd:6a43:1c3c:a248:e1ff\n",
      "31e0:2eba:568d:8ceb:f453:2a1:f698:8faf\n",
      "91f2:d2e4:1d22:aed7:c3d:cc5d:bac8:d784\n"
     ]
    }
   ],
   "source": [
    "for i in range(200):\n",
    "    id = f.ipv6()\n",
    "    if id[0].isnumeric():\n",
    "        ids.append(id)\n",
    "        print(id)"
   ]
  },
  {
   "cell_type": "code",
   "execution_count": 115,
   "id": "0b3ab268",
   "metadata": {},
   "outputs": [
    {
     "ename": "FileNotFoundError",
     "evalue": "[Errno 2] No such file or directory: 'files/leads.csv'",
     "output_type": "error",
     "traceback": [
      "\u001b[0;31m---------------------------------------------------------------------------\u001b[0m",
      "\u001b[0;31mFileNotFoundError\u001b[0m                         Traceback (most recent call last)",
      "Input \u001b[0;32mIn [115]\u001b[0m, in \u001b[0;36m<cell line: 1>\u001b[0;34m()\u001b[0m\n\u001b[0;32m----> 1\u001b[0m \u001b[38;5;28;43mopen\u001b[39;49m\u001b[43m(\u001b[49m\u001b[38;5;124;43m'\u001b[39;49m\u001b[38;5;124;43mfiles/leads.csv\u001b[39;49m\u001b[38;5;124;43m'\u001b[39;49m\u001b[43m)\u001b[49m\n",
      "\u001b[0;31mFileNotFoundError\u001b[0m: [Errno 2] No such file or directory: 'files/leads.csv'"
     ]
    }
   ],
   "source": [
    "open('files/leads.csv').read()"
   ]
  },
  {
   "cell_type": "code",
   "execution_count": 123,
   "id": "e732efe3",
   "metadata": {},
   "outputs": [],
   "source": [
    "names = list()\n",
    "age = list()\n"
   ]
  },
  {
   "cell_type": "code",
   "execution_count": 131,
   "id": "c1b551fc",
   "metadata": {
    "scrolled": true
   },
   "outputs": [],
   "source": [
    "names=['Or','Etti','Kap','Shlomt','Moshe']\n",
    "age=[25,30,35,40,45]"
   ]
  },
  {
   "cell_type": "code",
   "execution_count": 132,
   "id": "01db7f6d",
   "metadata": {},
   "outputs": [
    {
     "data": {
      "text/plain": [
       "['Or', 'Etti', 'Kap', 'Shlomt', 'Moshe']"
      ]
     },
     "execution_count": 132,
     "metadata": {},
     "output_type": "execute_result"
    }
   ],
   "source": [
    "names"
   ]
  },
  {
   "cell_type": "code",
   "execution_count": 149,
   "id": "22c6f33f",
   "metadata": {
    "collapsed": true
   },
   "outputs": [
    {
     "name": "stdout",
     "output_type": "stream",
     "text": [
      "Or\n",
      "Etti\n",
      "Kap\n",
      "Shlomt\n",
      "Moshe\n"
     ]
    }
   ],
   "source": [
    "\n",
    "\n",
    "    \n",
    "for i in names:\n",
    "    print(i)\n",
    "\n",
    "\n",
    "        \n",
    "\n",
    "        \n"
   ]
  },
  {
   "cell_type": "code",
   "execution_count": null,
   "id": "e43cb102",
   "metadata": {},
   "outputs": [],
   "source": []
  },
  {
   "cell_type": "code",
   "execution_count": 159,
   "id": "1ae0ed34",
   "metadata": {
    "collapsed": true
   },
   "outputs": [
    {
     "name": "stdout",
     "output_type": "stream",
     "text": [
      "[1, 2, 3, 4, 5, 6, 7, 8, 9, 10, 11, 12, 13, 14, 15, 16, 17, 18, 19, 20, 21, 22, 23, 24, 25, 26, 27, 28, 29, 30, 31, 32, 33, 34, 35, 36, 37, 38, 39, 40, 41, 42, 43, 44, 45, 46, 47, 48, 49, 50, 51, 52, 53, 54, 55, 56, 57, 58, 59, 60, 61, 62, 63, 64, 65, 66, 67, 68, 69, 70, 71, 72, 73, 74, 75, 76, 77, 78, 79, 80, 81, 82, 83, 84, 85, 86, 87, 88, 89, 90, 91, 92, 93, 94, 95, 96, 97, 98, 99, 100]\n"
     ]
    }
   ],
   "source": [
    "nums = list()\n",
    "\n",
    "for i in range(1,101):\n",
    "    nums.append(i)\n",
    "print(nums)\n",
    "   \n"
   ]
  },
  {
   "cell_type": "markdown",
   "id": "28a1083a",
   "metadata": {},
   "source": [
    "New Loop While"
   ]
  },
  {
   "cell_type": "code",
   "execution_count": 166,
   "id": "1eb15db4",
   "metadata": {
    "collapsed": true
   },
   "outputs": [
    {
     "name": "stdout",
     "output_type": "stream",
     "text": [
      "2\n",
      "3\n",
      "4\n",
      "5\n",
      "6\n",
      "7\n",
      "8\n",
      "9\n",
      "10\n",
      "11\n"
     ]
    }
   ],
   "source": [
    "number =1\n",
    "\n",
    "while number <11:\n",
    "    number += 1\n",
    "    print(number)  #number = number+1 "
   ]
  },
  {
   "cell_type": "code",
   "execution_count": 171,
   "id": "e69c131f",
   "metadata": {},
   "outputs": [
    {
     "name": "stdout",
     "output_type": "stream",
     "text": [
      "200\n"
     ]
    }
   ],
   "source": [
    "ids=list()\n",
    "\n",
    "while len(ids) <200:\n",
    "    id= f.ipv6()\n",
    "    if id[0].isnumeric():\n",
    "        ids.append(id)\n",
    "        \n",
    "print(len(ids))\n",
    "\n"
   ]
  },
  {
   "cell_type": "code",
   "execution_count": 169,
   "id": "1fbc6637",
   "metadata": {
    "collapsed": true
   },
   "outputs": [
    {
     "data": {
      "text/plain": [
       "['529d:36b0:f391:f591:7ec7:3c1f:c3e5:f0ca',\n",
       " '60bd:acd6:a448:55a9:e15c:a754:26b6:ef6a',\n",
       " '4d88:37bb:2497:2650:cea0:f2a6:b2a6:77cb',\n",
       " '1e88:a818:9c9c:8012:d289:5858:9208:8cb3',\n",
       " '66e0:f77c:4418:35ed:3d74:dec9:1809:534c',\n",
       " '9bbb:db5a:1b73:882d:ed5a:f7ad:7d1:28c9',\n",
       " '8878:b116:6344:afbb:cf75:54df:c8b2:337d',\n",
       " '65f6:e55f:256f:69f9:7d2:175b:7297:67e0',\n",
       " '91f3:1563:ae67:bc8:d64c:2c34:3ba9:cdd6',\n",
       " '6b1b:bf53:e6e:93ad:a180:f654:446c:c1f4',\n",
       " '7c7f:83ad:c26a:f963:2329:9d1c:f748:b9ab',\n",
       " '140f:c4fb:a12b:20f6:ea4f:9704:9dff:6ef8',\n",
       " '908b:f846:84f1:4947:391:d8da:22b:7761',\n",
       " '2523:3f96:af66:ca1f:957d:ade7:b116:fc15',\n",
       " '8749:2993:3bb0:9ae1:9afb:a131:35bb:a396',\n",
       " '7733:b13e:f4cd:2008:dd04:9da3:c311:8ad8',\n",
       " '44e4:bca6:d6c2:e3e7:699:1d9e:c0a6:9da5',\n",
       " '9fc9:640b:56d2:698e:8301:d757:97e4:c53a',\n",
       " '4b2e:159b:fa3f:158:c8f4:e1b7:d9ea:bb79',\n",
       " '6919:26a4:bd72:5bed:35b4:2e69:e652:e6e0',\n",
       " '49c9:6d7b:a5f7:c1ec:4b3d:5ed3:ac2f:b1e7',\n",
       " '30da:8e8:2405:c9c3:ea4d:6ea3:ab47:8db9',\n",
       " '5a36:6011:604:fa72:c23c:c95f:5526:2635',\n",
       " '2279:e3c0:e3c9:72a5:314:989d:91a3:db2f',\n",
       " '835b:5005:1a8c:2e09:40da:415f:e1bc:bbd9',\n",
       " '1cfa:964d:e26:f2d0:cdbf:826b:7e52:5e5e',\n",
       " '6974:ae3:970a:76df:47a:6cde:2ac1:5313',\n",
       " '7042:1284:cb36:b27d:5230:4c48:cf68:a12f',\n",
       " '10f3:d765:6615:7e44:380d:25a8:c2d:b064',\n",
       " '2f81:91fb:5697:6db7:2508:9ace:c774:8fdd',\n",
       " '9e9b:3817:1e2a:fddc:8abc:dc11:ff98:2817',\n",
       " '4eca:caa7:c783:7eae:6de3:8ad7:2e27:c36b',\n",
       " '8e8e:f2db:f970:6b4a:c7df:e771:cc25:3f48',\n",
       " '1402:330b:ed36:a5a5:b56b:8dbf:2911:4668',\n",
       " '996e:336b:da4f:1ea3:25ec:d202:288a:6b8a',\n",
       " '8d5:95b9:f1c2:7851:db7d:c3eb:2227:f7ef',\n",
       " '26e7:5175:1435:e96a:89a7:9e67:fbcf:a8f2',\n",
       " '4434:7071:4756:36f0:7244:f0c9:e28d:f42b',\n",
       " '78c2:36dc:43b5:f75:befb:a974:7110:ea3',\n",
       " '1790:c131:1824:5e93:6c5c:3d65:802b:1e9',\n",
       " '9a25:9efc:9319:e33d:c02b:f769:22a4:637b',\n",
       " '2e36:88f1:f886:9a84:cfd5:c4ca:53a:fcbb',\n",
       " '3ccc:dff1:dd7c:b42c:e0ed:881e:d782:43c3',\n",
       " '12a:68c:bae6:3fb4:625f:97b9:fc6a:298b',\n",
       " '619c:6c92:a87f:e570:80a2:fd67:d522:64c7',\n",
       " '99ec:3d8e:afa:44f4:7fe2:5e44:a8d0:f84',\n",
       " '1af1:1c68:6762:107f:61a3:6bf1:a211:549b',\n",
       " '6eee:b1db:d918:a5ab:a223:7263:b882:a994',\n",
       " '8219:8d1d:ccc0:6294:89d9:9777:b371:24ec',\n",
       " '36fe:3d39:40ab:57f1:e7a6:e7d4:60af:b06b',\n",
       " '7d7b:c4e6:51af:fc65:8c1c:ab5f:9f81:17f5',\n",
       " '4540:8e79:30b5:7182:5685:881d:fa77:95ac',\n",
       " '2e42:976c:12bf:88df:fa57:50b2:4689:4569',\n",
       " '482b:1cc8:97d9:2ac5:e711:508d:e826:e396',\n",
       " '30ef:498a:cfcf:a317:2b38:cb58:a505:8ca',\n",
       " '53c2:5be8:b037:973:76f9:5e5e:81f5:1be',\n",
       " '46a4:ea82:7088:a970:ad56:c202:5757:2d21',\n",
       " '2cbc:cb85:3aab:8689:a3f3:e1ac:7326:c510',\n",
       " '38b4:769e:1639:44f6:ae9a:c476:5843:4504',\n",
       " '54ab:bf00:b4da:9f82:92aa:85d6:cf10:d5e9',\n",
       " '1bf0:55d1:9b69:f63:5896:b15c:9a4d:99b5',\n",
       " '8e3e:281f:2597:3018:fdab:44e7:a161:aeec',\n",
       " '1d15:f898:8227:84fa:d9cc:b17b:3349:bd0f',\n",
       " '794e:adf8:a906:5f07:683b:3c11:d43f:7b97',\n",
       " '9fd4:b0a4:719c:3955:6bd0:4213:e4e2:d8e4',\n",
       " '5488:fd5b:bfd7:5d05:5232:cf79:d403:2bc5',\n",
       " '1a00:5f11:e5b8:e324:38bc:1bfa:a572:aab9',\n",
       " '4a41:9e1e:7115:1457:f402:2538:757a:e8c2',\n",
       " '4f4d:9ce3:d183:3f0a:2e9:fa86:2ca7:cff2',\n",
       " '55db:a988:530f:5f1:d429:8ddb:b77e:a07c',\n",
       " '4857:e0db:11ec:4adb:7171:161e:4afb:f140',\n",
       " '1bf5:147:3d34:8069:35c5:48ac:5da2:1118',\n",
       " '955b:e06c:993b:d728:b04a:d1f8:f8ad:854f',\n",
       " '4a2d:29b:6601:1ff8:ca86:dbdd:5a5c:a3fa',\n",
       " '4fa5:c82a:455:d583:4d1:97a9:9b4a:2810',\n",
       " '2289:6b25:5c9e:6d58:f6a3:9268:fe44:8103',\n",
       " '3fd6:6e0a:e041:aec6:fc9d:6810:5578:db0b',\n",
       " '2ab6:2cc9:e092:b0b:5e2b:a944:853f:42b9',\n",
       " '3db8:4809:fb73:ec63:971d:a161:e5b6:fba7',\n",
       " '8c57:9e3f:fc0d:7a42:84ba:8cf3:b1e9:bee',\n",
       " '1941:1fbe:1bf0:3cde:db8f:387c:a3a9:50dc',\n",
       " '5f51:360a:ecd7:ab40:378d:9a13:d94a:958f',\n",
       " '6f56:cfa1:4793:3b67:cff0:c79f:9d37:bfec',\n",
       " '5fdf:b45b:46eb:197a:519c:a001:ac70:82c4',\n",
       " '7ae1:a9bd:dc08:1df5:ab59:ef84:7d7b:5c24',\n",
       " '4ee2:d14f:35b0:f116:b5bf:9ab0:faf9:f2f5',\n",
       " '5c72:2a07:951d:9a75:73ad:1a48:ab23:2b06',\n",
       " '2f61:be84:4af9:cbb1:421d:866a:2c33:9e3e',\n",
       " '891e:af89:c130:1681:cc1f:98f5:ddd4:69a3',\n",
       " '540a:1501:f42:6d29:ccc4:5fa3:59f0:720c',\n",
       " '674c:103c:95d2:128d:c428:ab70:9d61:1288',\n",
       " '2f8e:2117:a492:a2b4:75d8:f2dd:476a:1783',\n",
       " '3ef6:d476:ce27:f821:f035:1744:f9bf:924e',\n",
       " '15b:1f08:4a54:19e3:632e:bac5:12e8:20fe',\n",
       " '2353:f638:8168:682a:88f2:79b2:8343:9193',\n",
       " '2626:42d7:ff24:f04:ba73:fc73:ad47:2eae',\n",
       " '8b04:978d:ede3:9b51:bf65:ed31:e772:6a6d',\n",
       " '58f8:a7e6:b09d:8dfa:f97c:ca74:5677:e5e8',\n",
       " '516b:2608:6a4a:feb6:58c0:51c7:2892:1288',\n",
       " '9120:60c:30d2:7797:3be0:a731:c4ce:6573',\n",
       " '3a3e:5e11:d18b:b13e:1ee5:b90:764e:db04',\n",
       " '9280:e57e:b6e4:8f19:ae6a:4336:b16b:1d8b',\n",
       " '4b74:f5c2:b97e:a477:de5b:b6d7:f510:a6d4',\n",
       " '613d:3566:7466:1000:c46d:a81a:44d8:d0a8',\n",
       " '29ef:d0e:5b2f:9ed5:6f7a:4061:eba0:d5aa',\n",
       " '5c59:3710:5835:232e:8a96:a7e1:6b1e:14bf',\n",
       " '3743:a73e:d148:c1a:41f9:d229:5c0d:a035',\n",
       " '3a6:c7c6:d85b:64a6:b176:4dea:77ec:a3c7',\n",
       " '2f7b:eefb:7ae9:2378:830d:bfa:be2a:99b5',\n",
       " '79af:f39c:7513:e04b:1880:aba7:a12f:6f00',\n",
       " '8839:1602:dff3:1fc3:807d:b00d:e3e6:12f7',\n",
       " '42c0:6a3b:ae19:34d4:3850:ca2e:e748:b390',\n",
       " '6f4e:ca2b:fde9:f63:4bb5:459:9941:f6ff',\n",
       " '8d74:abd7:daff:a2a6:e193:5550:b047:2f28',\n",
       " '3286:c32c:89f:456a:c4e4:bc1a:348f:11ad',\n",
       " '771a:afdf:d7f7:9863:8edc:c61d:1142:180f',\n",
       " '353:5f64:ccfd:d4d0:2934:c7d1:938e:954c',\n",
       " '5471:c180:bb87:74df:b0c2:87fb:b6db:334',\n",
       " '83f0:436c:43db:5814:8e9f:4b87:4a03:c231',\n",
       " '81a9:8a71:71f8:48e3:37ff:cb45:5760:2b5a',\n",
       " '483a:4849:c8a8:40af:f901:f793:86ac:7042',\n",
       " '74ff:aa33:e730:f3ce:d6a3:dfbd:ee6d:e403',\n",
       " '49e1:d54e:c753:c7c8:8ed6:68f8:a32:f9c1',\n",
       " '2168:ebd:d766:861e:a335:d788:79e7:d33a',\n",
       " '1127:6869:3d38:400d:fa8a:8d41:5ac1:8164',\n",
       " '8810:ae82:82a7:ec15:9ecd:c26a:377f:3ecc',\n",
       " '9b1d:2874:653c:df08:165f:810a:a193:8fe4',\n",
       " '8241:40ab:a2cd:d6f:9d5:f50c:bd03:25f2',\n",
       " '6765:4fdd:e0f3:7b7a:d949:2b25:e3b4:a015',\n",
       " '5d9a:6401:9e29:9723:510c:5153:5a55:c476',\n",
       " '802f:d32a:ca5b:858e:b2a8:449b:d5e5:2601',\n",
       " '3b37:b55e:ed48:954:72d:a7a4:13f0:27b5',\n",
       " '4347:a34e:5906:342e:24ed:6226:dbd2:cc2e',\n",
       " '3ada:de64:59dd:6995:1956:8cdb:36da:e092',\n",
       " '8900:a14f:ca0:25b5:9a42:1ea2:c4ed:c2ef',\n",
       " '84c5:d2dd:7e83:4be:8af4:8931:39ef:6d8d',\n",
       " '92a7:f28d:32f:4f31:2ce0:a4a:ff7b:133',\n",
       " '435d:8a34:7244:cde2:7061:679d:55e7:a7be',\n",
       " '6cd6:8b84:e0e0:623b:3d1a:a93:251f:bfbc',\n",
       " '1e2c:b4a0:34ca:7340:d244:e3d1:fcfe:2a0',\n",
       " '6415:7f18:8eea:c6ef:b0b4:ea08:c554:4958',\n",
       " '3363:8bf1:1b6d:b510:1060:a1e1:9fd9:dd7',\n",
       " '190:41a1:ed3c:543a:fa24:9085:f88b:d82a',\n",
       " '4fd8:212d:ccfd:856f:3282:6ffb:36b9:ac2f',\n",
       " '8ac7:618a:235d:2852:73b1:279b:4f35:967',\n",
       " '276:c87a:9224:f9b7:1982:8e02:ada7:7f44',\n",
       " '5a0e:7faa:2bf9:9ade:7445:bb20:ea2c:369',\n",
       " '175:ac0c:1600:cc3d:f542:8415:aadd:b88d',\n",
       " '20f0:85c7:8de4:47dd:f549:d45d:a50f:3594',\n",
       " '8a2e:c0b0:5eb7:1a62:925a:fb85:dacf:1074',\n",
       " '585a:f0c5:8930:b227:782e:d487:2419:7488',\n",
       " '761a:316f:11df:11c4:14d7:fdd6:4cf5:f3d4',\n",
       " '9aad:f597:14a1:6331:3bcc:fb:36b0:2af4',\n",
       " '1453:4486:5828:a551:7289:79ca:151b:4ce1',\n",
       " '13de:42cf:f604:961d:97ec:9ed:ad26:fe9e',\n",
       " '2a96:12eb:f339:4604:7a47:235a:5825:c43f',\n",
       " '2dd6:309f:7d2c:18ca:b4a:8706:8439:ec16',\n",
       " '2624:aaca:db0e:81d3:4751:84d6:cd51:b4e6',\n",
       " '5980:b2e2:80e3:4212:5d8d:5d7d:cd:9190',\n",
       " '348f:6509:6d20:2ccf:6d57:a31a:377e:8f46',\n",
       " '58d8:5499:68df:a5e7:b5c8:932b:8294:3287',\n",
       " '97d6:d34c:cf9c:e187:6a9a:b70a:f006:ed00',\n",
       " '294a:294b:a424:4ef7:8c4a:399:d100:dd5c',\n",
       " '9eff:e88c:12c9:639d:a232:7ab6:b143:fdc',\n",
       " '5cc6:a76e:c42d:22cc:4740:6524:245c:9931',\n",
       " '6e6e:f6a7:e0e0:70e2:25fd:aee1:631d:6b92',\n",
       " '381a:cc90:2f50:a19c:b2b1:44af:6990:e268',\n",
       " '101f:bff6:fa23:16cf:aa8a:8a07:cf4b:d456',\n",
       " '17c3:4fc9:d4a9:73a5:f70c:ba41:b5f4:eef5',\n",
       " '8962:c78d:467e:5076:5e7a:f2f8:2cda:6ffc',\n",
       " '3f9a:da25:6f9a:96c3:a503:df60:3a2f:408b',\n",
       " '9f7c:f1bc:cbfe:8b5f:9c06:c650:dd65:f03d',\n",
       " '1515:30ed:ba96:eef8:b9b7:a5d8:6329:b4f4',\n",
       " '1087:f63d:cd1:387:663d:c22b:70ef:e595',\n",
       " '6064:502:4e8c:adba:f73:ccb5:b3db:b514',\n",
       " '63b4:b470:7860:74f8:9c4:d3fe:c164:18b3',\n",
       " '93b1:d63:3735:7597:3c34:89c2:351c:534b',\n",
       " '523e:8526:ea5c:9621:3de3:e7c1:4d3f:4e11',\n",
       " '2c9f:a01d:5902:2ea9:6bf2:9b3:3782:74d7',\n",
       " '35e:6473:957d:1154:fe7e:8e84:5ff9:9816',\n",
       " '1c38:5a3e:a899:9517:f033:8e3b:f811:c6c4',\n",
       " '1962:4585:4042:5907:ff43:ba62:8c3c:264d',\n",
       " '5249:bf86:e271:1714:950:2639:285e:54e1',\n",
       " '7c02:296c:d67:5ba0:1d43:d76e:6fd3:530c',\n",
       " '1e02:c347:dedd:e676:18f4:39e0:b477:6eb8',\n",
       " '98dd:8403:9a62:a575:9a8:518a:43af:9714',\n",
       " '2732:f060:e973:d1e5:ee56:b29f:7acf:bfad',\n",
       " '489c:1491:fdc:1f28:984:f1f4:922c:2f22',\n",
       " '82b:b0:4c8e:1e5a:623c:90b8:4675:1d7c',\n",
       " '9f2a:5b09:928a:282f:4c9d:1681:251c:d0e0',\n",
       " '203e:9812:19b2:be69:8455:bc24:5655:7b9d',\n",
       " '4f2c:1b15:73ff:df4d:4e63:a2e5:d8d5:a45f',\n",
       " '4499:70d6:5bcd:7f74:a4cc:46d6:3e83:7b6f',\n",
       " '4649:9e1d:e080:99db:d703:782a:ddbb:dee9',\n",
       " '1a2b:e67:f6d8:248f:4837:3e0:f818:87d3',\n",
       " '6599:692c:9886:9df2:1bb8:5bb9:edff:6a76',\n",
       " '1e3c:ca6f:32a6:9e16:11c1:d552:6831:1614',\n",
       " '234c:45d1:3ff:df4:e318:9f43:61bb:b60c',\n",
       " '1f19:7ebb:d0f0:1f05:7d7d:86bd:9cc6:4438',\n",
       " '67b7:7ba6:d29c:3ab3:288d:4258:2d96:1c']"
      ]
     },
     "execution_count": 169,
     "metadata": {},
     "output_type": "execute_result"
    }
   ],
   "source": [
    "ids"
   ]
  },
  {
   "cell_type": "markdown",
   "id": "58a6a14e",
   "metadata": {},
   "source": [
    "# Break - break before end of while"
   ]
  },
  {
   "cell_type": "code",
   "execution_count": 172,
   "id": "97b4d890",
   "metadata": {},
   "outputs": [
    {
     "name": "stdout",
     "output_type": "stream",
     "text": [
      "2\n",
      "3\n",
      "4\n"
     ]
    }
   ],
   "source": [
    "number =1\n",
    "\n",
    "while number <11:\n",
    "    number += 1\n",
    "    if number%5 ==0:  # the condition to break\n",
    "        break \n",
    "    print(number)  #number = number+1 "
   ]
  },
  {
   "cell_type": "markdown",
   "id": "74f13044",
   "metadata": {},
   "source": [
    "#CONTINUE - doesnt break but jumping on the condition true"
   ]
  },
  {
   "cell_type": "code",
   "execution_count": 173,
   "id": "6063e6c0",
   "metadata": {
    "collapsed": true
   },
   "outputs": [
    {
     "name": "stdout",
     "output_type": "stream",
     "text": [
      "3\n",
      "5\n",
      "7\n",
      "9\n",
      "11\n"
     ]
    }
   ],
   "source": [
    "number =1\n",
    "\n",
    "while number <11:\n",
    "    number += 1\n",
    "    if number%2 ==0:  # the condition to break\n",
    "        continue \n",
    "    print(number)  #number = number+1 "
   ]
  },
  {
   "cell_type": "code",
   "execution_count": null,
   "id": "1b12d2ff",
   "metadata": {},
   "outputs": [],
   "source": []
  },
  {
   "cell_type": "code",
   "execution_count": 237,
   "id": "180ff4bc",
   "metadata": {},
   "outputs": [],
   "source": [
    "lyrics = [\"I\", \"am\", \"a\", \"rock,\", \"I\", \"am\", \"an\", \"island.\", \"I\", \"am\", \"also\", \"a\", \"couch,\", \"a\", \"mirror,\", \"and\", \"I\", \"am\", \"best\", \"known\", \"for\", \"being\", \"a\", \"letter\", \"of\", \"the\", \"alphabet.\", \"On\", \"some\", \"days,\", \"I\", \"am\", \"everything,\", \"on\", \"others\", \"I\", \"am\", \"nothing.\", \"I\", \"am\", \"both\", \"and\", \"I\", \"am\", \"neither.\", \"I\", \"am,\", \"whatever\", \"you\", \"say\", \"I\", \"am\", \"-\", \"if\", \"I\", \"wasn't,\", \"then\", \"why\", \"would\", \"I\", \"say\", \"I\", \"am?\"]\n",
    "\n"
   ]
  },
  {
   "cell_type": "code",
   "execution_count": 188,
   "id": "4ecbd4ab",
   "metadata": {},
   "outputs": [
    {
     "name": "stdout",
     "output_type": "stream",
     "text": [
      "13\n"
     ]
    }
   ],
   "source": [
    "While until the end-  in nameof_list"
   ]
  },
  {
   "cell_type": "code",
   "execution_count": null,
   "id": "b303db63",
   "metadata": {},
   "outputs": [],
   "source": [
    "counter=0\n",
    "word=1\n",
    "for word in lyrics:\n",
    "    if word=='I':\n",
    "        counter+=1\n",
    "print(counter)"
   ]
  },
  {
   "cell_type": "markdown",
   "id": "dc25d3b9",
   "metadata": {},
   "source": [
    "#Run the count of the letter I is existing - 13 times and remove"
   ]
  },
  {
   "cell_type": "code",
   "execution_count": null,
   "id": "4b99e6c4",
   "metadata": {},
   "outputs": [],
   "source": [
    "for i in range(lyrics.count('I')):\n",
    "    lyrics.remove('I')\n",
    "\n",
    "\n",
    "lyrics\n"
   ]
  },
  {
   "cell_type": "markdown",
   "id": "4595be9e",
   "metadata": {},
   "source": [
    "Shortcut to remove "
   ]
  },
  {
   "cell_type": "code",
   "execution_count": 195,
   "id": "c14caf7a",
   "metadata": {},
   "outputs": [],
   "source": [
    "while 'I' in lyrics:\n",
    "    lyrics.remove('I')"
   ]
  },
  {
   "cell_type": "code",
   "execution_count": 223,
   "id": "fb13b6a8",
   "metadata": {
    "collapsed": true
   },
   "outputs": [
    {
     "data": {
      "text/plain": [
       "['I',\n",
       " 'am',\n",
       " 'a',\n",
       " 'rock,',\n",
       " 'I',\n",
       " 'am',\n",
       " 'an',\n",
       " 'island.',\n",
       " 'I',\n",
       " 'am',\n",
       " 'also',\n",
       " 'a',\n",
       " 'couch,',\n",
       " 'a',\n",
       " 'mirror,',\n",
       " 'and',\n",
       " 'I',\n",
       " 'am',\n",
       " 'best',\n",
       " 'known',\n",
       " 'for',\n",
       " 'being',\n",
       " 'a',\n",
       " 'letter',\n",
       " 'of',\n",
       " 'the',\n",
       " 'alphabet.',\n",
       " 'On',\n",
       " 'some',\n",
       " 'days,',\n",
       " 'I',\n",
       " 'am',\n",
       " 'everything,',\n",
       " 'on',\n",
       " 'others',\n",
       " 'I',\n",
       " 'am',\n",
       " 'nothing.',\n",
       " 'I',\n",
       " 'am',\n",
       " 'both',\n",
       " 'and',\n",
       " 'I',\n",
       " 'am',\n",
       " 'neither.',\n",
       " 'I',\n",
       " 'am,',\n",
       " 'whatever',\n",
       " 'you',\n",
       " 'say',\n",
       " 'I',\n",
       " 'am',\n",
       " '-',\n",
       " 'if',\n",
       " 'I',\n",
       " \"wasn't,\",\n",
       " 'then',\n",
       " 'why',\n",
       " 'would',\n",
       " 'I',\n",
       " 'say',\n",
       " 'I',\n",
       " 'am?']"
      ]
     },
     "execution_count": 223,
     "metadata": {},
     "output_type": "execute_result"
    }
   ],
   "source": [
    "lyrics"
   ]
  },
  {
   "cell_type": "code",
   "execution_count": null,
   "id": "2b7a1966",
   "metadata": {},
   "outputs": [],
   "source": []
  },
  {
   "cell_type": "markdown",
   "id": "978505dc",
   "metadata": {},
   "source": [
    "# Function\n"
   ]
  },
  {
   "cell_type": "code",
   "execution_count": 210,
   "id": "384ff317",
   "metadata": {},
   "outputs": [],
   "source": [
    "def add_number(num1: int,num2: int):\n",
    "    '(This function accenpt 2 numbers and returns the sum)'  #it's a description\n",
    "    return(num1+num2)"
   ]
  },
  {
   "cell_type": "code",
   "execution_count": 207,
   "id": "bd8d70e2",
   "metadata": {},
   "outputs": [
    {
     "name": "stdout",
     "output_type": "stream",
     "text": [
      "ab\n"
     ]
    }
   ],
   "source": [
    "add_number('a','b')  # SHIFT + TAB and we can see the description of function"
   ]
  },
  {
   "cell_type": "code",
   "execution_count": 211,
   "id": "413eb34d",
   "metadata": {},
   "outputs": [
    {
     "name": "stdout",
     "output_type": "stream",
     "text": [
      "300\n"
     ]
    }
   ],
   "source": [
    "amount=add_number(100,200)\n",
    "print(amount)"
   ]
  },
  {
   "cell_type": "code",
   "execution_count": 233,
   "id": "9e9dc84a",
   "metadata": {},
   "outputs": [
    {
     "data": {
      "text/plain": [
       "0"
      ]
     },
     "execution_count": 233,
     "metadata": {},
     "output_type": "execute_result"
    }
   ],
   "source": [
    "lyrics.index('I')  #which number is the word in list"
   ]
  },
  {
   "cell_type": "code",
   "execution_count": 241,
   "id": "d0bc9aea",
   "metadata": {},
   "outputs": [],
   "source": [
    "def replace_word(array,original,new):\n",
    "    while original in array:\n",
    "        array[array.index(original)]= new\n",
    "    return array"
   ]
  },
  {
   "cell_type": "code",
   "execution_count": 242,
   "id": "9072d9c4",
   "metadata": {
    "collapsed": true
   },
   "outputs": [
    {
     "data": {
      "text/plain": [
       "['You',\n",
       " 'am',\n",
       " 'a',\n",
       " 'rock,',\n",
       " 'You',\n",
       " 'am',\n",
       " 'an',\n",
       " 'island.',\n",
       " 'You',\n",
       " 'am',\n",
       " 'also',\n",
       " 'a',\n",
       " 'couch,',\n",
       " 'a',\n",
       " 'mirror,',\n",
       " 'and',\n",
       " 'You',\n",
       " 'am',\n",
       " 'best',\n",
       " 'known',\n",
       " 'for',\n",
       " 'being',\n",
       " 'a',\n",
       " 'letter',\n",
       " 'of',\n",
       " 'the',\n",
       " 'alphabet.',\n",
       " 'On',\n",
       " 'some',\n",
       " 'days,',\n",
       " 'You',\n",
       " 'am',\n",
       " 'everything,',\n",
       " 'on',\n",
       " 'others',\n",
       " 'You',\n",
       " 'am',\n",
       " 'nothing.',\n",
       " 'You',\n",
       " 'am',\n",
       " 'both',\n",
       " 'and',\n",
       " 'You',\n",
       " 'am',\n",
       " 'neither.',\n",
       " 'You',\n",
       " 'am,',\n",
       " 'whatever',\n",
       " 'you',\n",
       " 'say',\n",
       " 'You',\n",
       " 'am',\n",
       " '-',\n",
       " 'if',\n",
       " 'You',\n",
       " \"wasn't,\",\n",
       " 'then',\n",
       " 'why',\n",
       " 'would',\n",
       " 'You',\n",
       " 'say',\n",
       " 'You',\n",
       " 'am?']"
      ]
     },
     "execution_count": 242,
     "metadata": {},
     "output_type": "execute_result"
    }
   ],
   "source": [
    "replace_word(lyrics,'I','You')"
   ]
  },
  {
   "cell_type": "code",
   "execution_count": null,
   "id": "48ab483d",
   "metadata": {},
   "outputs": [],
   "source": []
  },
  {
   "cell_type": "markdown",
   "id": "45a55dfd",
   "metadata": {},
   "source": [
    "# Comprehensions"
   ]
  },
  {
   "cell_type": "code",
   "execution_count": 243,
   "id": "5cd5c0a2",
   "metadata": {
    "collapsed": true
   },
   "outputs": [
    {
     "data": {
      "text/plain": [
       "['You',\n",
       " 'am',\n",
       " 'a',\n",
       " 'rock,',\n",
       " 'You',\n",
       " 'am',\n",
       " 'an',\n",
       " 'island.',\n",
       " 'You',\n",
       " 'am',\n",
       " 'also',\n",
       " 'a',\n",
       " 'couch,',\n",
       " 'a',\n",
       " 'mirror,',\n",
       " 'and',\n",
       " 'You',\n",
       " 'am',\n",
       " 'best',\n",
       " 'known',\n",
       " 'for',\n",
       " 'being',\n",
       " 'a',\n",
       " 'letter',\n",
       " 'of',\n",
       " 'the',\n",
       " 'alphabet.',\n",
       " 'On',\n",
       " 'some',\n",
       " 'days,',\n",
       " 'You',\n",
       " 'am',\n",
       " 'everything,',\n",
       " 'on',\n",
       " 'others',\n",
       " 'You',\n",
       " 'am',\n",
       " 'nothing.',\n",
       " 'You',\n",
       " 'am',\n",
       " 'both',\n",
       " 'and',\n",
       " 'You',\n",
       " 'am',\n",
       " 'neither.',\n",
       " 'You',\n",
       " 'am,',\n",
       " 'whatever',\n",
       " 'you',\n",
       " 'say',\n",
       " 'You',\n",
       " 'am',\n",
       " '-',\n",
       " 'if',\n",
       " 'You',\n",
       " \"wasn't,\",\n",
       " 'then',\n",
       " 'why',\n",
       " 'would',\n",
       " 'You',\n",
       " 'say',\n",
       " 'You',\n",
       " 'am?']"
      ]
     },
     "execution_count": 243,
     "metadata": {},
     "output_type": "execute_result"
    }
   ],
   "source": [
    "lyrics"
   ]
  },
  {
   "cell_type": "code",
   "execution_count": 245,
   "id": "6916c519",
   "metadata": {
    "collapsed": true
   },
   "outputs": [
    {
     "data": {
      "text/plain": [
       "['Y',\n",
       " 'A',\n",
       " 'A',\n",
       " 'R',\n",
       " 'Y',\n",
       " 'A',\n",
       " 'A',\n",
       " 'I',\n",
       " 'Y',\n",
       " 'A',\n",
       " 'A',\n",
       " 'A',\n",
       " 'C',\n",
       " 'A',\n",
       " 'M',\n",
       " 'A',\n",
       " 'Y',\n",
       " 'A',\n",
       " 'B',\n",
       " 'K',\n",
       " 'F',\n",
       " 'B',\n",
       " 'A',\n",
       " 'L',\n",
       " 'O',\n",
       " 'T',\n",
       " 'A',\n",
       " 'O',\n",
       " 'S',\n",
       " 'D',\n",
       " 'Y',\n",
       " 'A',\n",
       " 'E',\n",
       " 'O',\n",
       " 'O',\n",
       " 'Y',\n",
       " 'A',\n",
       " 'N',\n",
       " 'Y',\n",
       " 'A',\n",
       " 'B',\n",
       " 'A',\n",
       " 'Y',\n",
       " 'A',\n",
       " 'N',\n",
       " 'Y',\n",
       " 'A',\n",
       " 'W',\n",
       " 'Y',\n",
       " 'S',\n",
       " 'Y',\n",
       " 'A',\n",
       " '-',\n",
       " 'I',\n",
       " 'Y',\n",
       " 'W',\n",
       " 'T',\n",
       " 'W',\n",
       " 'W',\n",
       " 'Y',\n",
       " 'S',\n",
       " 'Y',\n",
       " 'A']"
      ]
     },
     "execution_count": 245,
     "metadata": {},
     "output_type": "execute_result"
    }
   ],
   "source": [
    "letters= list()\n",
    "for word in lyrics:\n",
    "    letter=word[0]\n",
    "    letters.append(letter.upper())\n",
    "letters"
   ]
  },
  {
   "cell_type": "code",
   "execution_count": null,
   "id": "937c61ec",
   "metadata": {},
   "outputs": [],
   "source": [
    "#The Same like - "
   ]
  },
  {
   "cell_type": "code",
   "execution_count": 254,
   "id": "cf32135f",
   "metadata": {
    "collapsed": true
   },
   "outputs": [
    {
     "data": {
      "text/plain": [
       "['Y',\n",
       " 'A',\n",
       " 'A',\n",
       " 'R',\n",
       " 'Y',\n",
       " 'A',\n",
       " 'A',\n",
       " 'I',\n",
       " 'Y',\n",
       " 'A',\n",
       " 'A',\n",
       " 'A',\n",
       " 'C',\n",
       " 'A',\n",
       " 'M',\n",
       " 'A',\n",
       " 'Y',\n",
       " 'A',\n",
       " 'B',\n",
       " 'K',\n",
       " 'F',\n",
       " 'B',\n",
       " 'A',\n",
       " 'L',\n",
       " 'O',\n",
       " 'T',\n",
       " 'A',\n",
       " 'O',\n",
       " 'S',\n",
       " 'D',\n",
       " 'Y',\n",
       " 'A',\n",
       " 'E',\n",
       " 'O',\n",
       " 'O',\n",
       " 'Y',\n",
       " 'A',\n",
       " 'N',\n",
       " 'Y',\n",
       " 'A',\n",
       " 'B',\n",
       " 'A',\n",
       " 'Y',\n",
       " 'A',\n",
       " 'N',\n",
       " 'Y',\n",
       " 'A',\n",
       " 'W',\n",
       " 'Y',\n",
       " 'S',\n",
       " 'Y',\n",
       " 'A',\n",
       " '-',\n",
       " 'I',\n",
       " 'Y',\n",
       " 'W',\n",
       " 'T',\n",
       " 'W',\n",
       " 'W',\n",
       " 'Y',\n",
       " 'S',\n",
       " 'Y',\n",
       " 'A']"
      ]
     },
     "execution_count": 254,
     "metadata": {},
     "output_type": "execute_result"
    }
   ],
   "source": [
    "letters= [word[0].upper() for word in lyrics]\n",
    "letters"
   ]
  },
  {
   "cell_type": "code",
   "execution_count": 257,
   "id": "5c60d615",
   "metadata": {
    "collapsed": true
   },
   "outputs": [
    {
     "data": {
      "text/plain": [
       "['$5.41',\n",
       " '$3,076.99',\n",
       " '$2.40',\n",
       " '$92,983.35',\n",
       " '$6,752.40',\n",
       " '$923.72',\n",
       " '$3.35',\n",
       " '$6.65',\n",
       " '$6,964.28',\n",
       " '$60.83',\n",
       " '$175.91',\n",
       " '$90.18',\n",
       " '$9.67',\n",
       " '$60,067.76',\n",
       " '$18.60',\n",
       " '$62,842.54',\n",
       " '$588.62',\n",
       " '$2,251.18',\n",
       " '$43,204.96',\n",
       " '$3,108.63',\n",
       " '$8,769.36',\n",
       " '$427.04',\n",
       " '$3,128.23',\n",
       " '$6,875.00',\n",
       " '$44.70',\n",
       " '$65,058.47',\n",
       " '$80.02',\n",
       " '$8.69',\n",
       " '$43,271.65',\n",
       " '$907.89',\n",
       " '$93,992.87',\n",
       " '$9.79',\n",
       " '$78.95',\n",
       " '$16,111.28',\n",
       " '$46,566.47',\n",
       " '$8,802.17',\n",
       " '$65,918.80',\n",
       " '$7.64',\n",
       " '$18,817.39',\n",
       " '$32,754.02',\n",
       " '$225.17',\n",
       " '$52.86',\n",
       " '$7.06',\n",
       " '$346.47',\n",
       " '$34,726.52',\n",
       " '$63.04',\n",
       " '$19,790.24',\n",
       " '$374.02',\n",
       " '$72,688.46',\n",
       " '$73,947.37',\n",
       " '$4,695.39',\n",
       " '$95,051.99',\n",
       " '$83.15',\n",
       " '$10,644.38',\n",
       " '$531.83',\n",
       " '$1.04',\n",
       " '$740.97',\n",
       " '$2,874.76',\n",
       " '$4.97',\n",
       " '$73.40',\n",
       " '$5.32',\n",
       " '$178.13',\n",
       " '$7.50',\n",
       " '$74,469.76',\n",
       " '$8.40',\n",
       " '$71.82',\n",
       " '$63,066.90',\n",
       " '$329.98',\n",
       " '$17.75',\n",
       " '$36,788.01',\n",
       " '$1,994.83',\n",
       " '$257.74',\n",
       " '$125.38',\n",
       " '$4,378.47',\n",
       " '$8.46',\n",
       " '$658.97',\n",
       " '$28,499.08',\n",
       " '$68,383.16',\n",
       " '$66,872.04',\n",
       " '$460.63',\n",
       " '$3.76',\n",
       " '$5,134.64',\n",
       " '$91,838.87',\n",
       " '$1,727.95',\n",
       " '$3,280.05',\n",
       " '$6,970.38',\n",
       " '$7,033.54',\n",
       " '$4.39',\n",
       " '$90,446.32',\n",
       " '$58.70',\n",
       " '$9,484.03',\n",
       " '$4,248.16',\n",
       " '$447.94',\n",
       " '$3.98',\n",
       " '$4.81',\n",
       " '$4.97',\n",
       " '$1,973.45',\n",
       " '$22,571.40',\n",
       " '$63.18',\n",
       " '$64,739.47']"
      ]
     },
     "execution_count": 257,
     "metadata": {},
     "output_type": "execute_result"
    }
   ],
   "source": [
    "[f.pricetag() for i in range(100)]   #pricetag is making the $ -- f is the faker that we imported before"
   ]
  },
  {
   "cell_type": "code",
   "execution_count": 259,
   "id": "42152e72",
   "metadata": {
    "collapsed": true
   },
   "outputs": [
    {
     "data": {
      "text/plain": [
       "['6.50',\n",
       " '537.58',\n",
       " '83.03',\n",
       " '0.20',\n",
       " '39,097.66',\n",
       " '41,240.65',\n",
       " '5.39',\n",
       " '6.60',\n",
       " '45.77',\n",
       " '50.85',\n",
       " '69,219.44',\n",
       " '753.87',\n",
       " '892.49',\n",
       " '8,829.55',\n",
       " '5,281.48',\n",
       " '79.40',\n",
       " '4,275.03',\n",
       " '0.47',\n",
       " '8,317.37',\n",
       " '1,115.49',\n",
       " '49,187.04',\n",
       " '87,883.41',\n",
       " '65.23',\n",
       " '291.37',\n",
       " '2,273.15',\n",
       " '5,607.83',\n",
       " '45.04',\n",
       " '8.96',\n",
       " '93.41',\n",
       " '1.71',\n",
       " '30,480.61',\n",
       " '95.11',\n",
       " '1.07',\n",
       " '300.79',\n",
       " '89.96',\n",
       " '4.15',\n",
       " '4.16',\n",
       " '927.34',\n",
       " '9,439.00',\n",
       " '3,118.34',\n",
       " '34,004.44',\n",
       " '875.05',\n",
       " '894.29',\n",
       " '94,212.39',\n",
       " '9,709.65',\n",
       " '41,408.62',\n",
       " '8.12',\n",
       " '4.85',\n",
       " '24,981.16',\n",
       " '73,383.86',\n",
       " '3,857.66',\n",
       " '40.60',\n",
       " '4,747.24',\n",
       " '7.44',\n",
       " '6,130.22',\n",
       " '858.75',\n",
       " '39.92',\n",
       " '209.72',\n",
       " '2.15',\n",
       " '7.39',\n",
       " '22,577.10',\n",
       " '1,548.64',\n",
       " '4.52',\n",
       " '129.07',\n",
       " '95,145.95',\n",
       " '584.03',\n",
       " '348.54',\n",
       " '6,990.20',\n",
       " '16,460.87',\n",
       " '1.28',\n",
       " '415.08',\n",
       " '3,778.18',\n",
       " '9,021.40',\n",
       " '70.10',\n",
       " '70,260.47',\n",
       " '39,163.98',\n",
       " '87,421.93',\n",
       " '961.03',\n",
       " '96,314.72',\n",
       " '2,521.48',\n",
       " '28.82',\n",
       " '10,337.99',\n",
       " '6,582.48',\n",
       " '941.82',\n",
       " '4,676.72',\n",
       " '14.44',\n",
       " '12,703.63',\n",
       " '86,959.50',\n",
       " '238.62',\n",
       " '88.63',\n",
       " '2.78',\n",
       " '8,663.94',\n",
       " '9,364.36',\n",
       " '84,312.12',\n",
       " '6,319.99',\n",
       " '33.90',\n",
       " '2.18',\n",
       " '429.75',\n",
       " '83,788.55',\n",
       " '1.34']"
      ]
     },
     "execution_count": 259,
     "metadata": {},
     "output_type": "execute_result"
    }
   ],
   "source": [
    "[f.pricetag()[1:] for i in range(100)]   # [1:] without the $"
   ]
  },
  {
   "cell_type": "code",
   "execution_count": 273,
   "id": "8a242f67",
   "metadata": {},
   "outputs": [],
   "source": [
    "prices=[float(f.pricetag()[1:].replace(',','')) for i in range(100)]   # [1:] without the $  and replace the , with space"
   ]
  },
  {
   "cell_type": "code",
   "execution_count": 275,
   "id": "deb7f263",
   "metadata": {},
   "outputs": [
    {
     "data": {
      "text/plain": [
       "[818664.0,\n",
       " 7109.999999999999,\n",
       " 883317.0,\n",
       " 2261932.0,\n",
       " 92043.0,\n",
       " 6757036.0,\n",
       " 229537.0,\n",
       " 46575.0,\n",
       " 139284.0,\n",
       " 747740.0,\n",
       " 1.63,\n",
       " 87336.0,\n",
       " 86098.0,\n",
       " 3572393.0,\n",
       " 77654.0,\n",
       " 2612010.0,\n",
       " 8128756.0,\n",
       " 4350.0,\n",
       " 620332.0,\n",
       " 9.02,\n",
       " 124223.0,\n",
       " 4.65,\n",
       " 9643621.0,\n",
       " 4860.0,\n",
       " 8719.0,\n",
       " 9452037.0,\n",
       " 80569.0,\n",
       " 5547368.0,\n",
       " 0.61,\n",
       " 70084.0,\n",
       " 2.05,\n",
       " 7645496.000000001,\n",
       " 8.12,\n",
       " 28167.0,\n",
       " 979581.0,\n",
       " 7544.0,\n",
       " 9.42,\n",
       " 4387619.0,\n",
       " 6289.0,\n",
       " 9.73,\n",
       " 85834.0,\n",
       " 5.64,\n",
       " 3406.0,\n",
       " 8887594.0,\n",
       " 85015.0,\n",
       " 2.08,\n",
       " 9479.0,\n",
       " 4432.0,\n",
       " 5707.0,\n",
       " 9137346.0,\n",
       " 6320518.0,\n",
       " 5.44,\n",
       " 4207.0,\n",
       " 7.75,\n",
       " 134753.0,\n",
       " 7311.0,\n",
       " 7421564.999999999,\n",
       " 3094257.0,\n",
       " 644042.0,\n",
       " 241557.00000000003,\n",
       " 858893.0,\n",
       " 6805.0,\n",
       " 5232807.0,\n",
       " 3823404.0,\n",
       " 95973.0,\n",
       " 136125.0,\n",
       " 0.62,\n",
       " 9.71,\n",
       " 6302571.0,\n",
       " 8003.0,\n",
       " 706501.0,\n",
       " 8.89,\n",
       " 5617102.0,\n",
       " 3701.0,\n",
       " 7038.0,\n",
       " 6.17,\n",
       " 2753440.0,\n",
       " 8.91,\n",
       " 15497.0,\n",
       " 9382080.0,\n",
       " 4530250.0,\n",
       " 987637.0000000001,\n",
       " 4.93,\n",
       " 78469.0,\n",
       " 83322.0,\n",
       " 9.19,\n",
       " 7759.0,\n",
       " 2810760.0,\n",
       " 5932.0,\n",
       " 15.28,\n",
       " 93765.0,\n",
       " 932812.0000000001,\n",
       " 4829.0,\n",
       " 938483.0,\n",
       " 5983.0,\n",
       " 3.44,\n",
       " 2.95,\n",
       " 4787665.0,\n",
       " 195521.0,\n",
       " 5140.0]"
      ]
     },
     "execution_count": 275,
     "metadata": {},
     "output_type": "execute_result"
    }
   ],
   "source": [
    "[p if p<20 else p*100 for p in prices]  #the same but with another kind"
   ]
  },
  {
   "cell_type": "code",
   "execution_count": null,
   "id": "bd87bda4",
   "metadata": {},
   "outputs": [],
   "source": []
  }
 ],
 "metadata": {
  "kernelspec": {
   "display_name": "Python 3 (ipykernel)",
   "language": "python",
   "name": "python3"
  },
  "language_info": {
   "codemirror_mode": {
    "name": "ipython",
    "version": 3
   },
   "file_extension": ".py",
   "mimetype": "text/x-python",
   "name": "python",
   "nbconvert_exporter": "python",
   "pygments_lexer": "ipython3",
   "version": "3.10.5"
  }
 },
 "nbformat": 4,
 "nbformat_minor": 5
}
